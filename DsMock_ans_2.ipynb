{
  "nbformat": 4,
  "nbformat_minor": 0,
  "metadata": {
    "colab": {
      "provenance": [],
      "authorship_tag": "ABX9TyNhLaCAJeTXBc8NgJnqVDAN",
      "include_colab_link": true
    },
    "kernelspec": {
      "name": "python3",
      "display_name": "Python 3"
    },
    "language_info": {
      "name": "python"
    }
  },
  "cells": [
    {
      "cell_type": "markdown",
      "metadata": {
        "id": "view-in-github",
        "colab_type": "text"
      },
      "source": [
        "<a href=\"https://colab.research.google.com/github/RakeshMishra26mgh/DsMock_ans_2/blob/main/DsMock_ans_2.ipynb\" target=\"_parent\"><img src=\"https://colab.research.google.com/assets/colab-badge.svg\" alt=\"Open In Colab\"/></a>"
      ]
    },
    {
      "cell_type": "code",
      "execution_count": null,
      "metadata": {
        "id": "tirRCE_tL6G4"
      },
      "outputs": [],
      "source": [
        "import time\n",
        "def timer(func):\n",
        "  def wrapper(*args, **kwargs):\n",
        "    start = time.time()\n",
        "    result = func(*args, **kwargs)\n",
        "    end = time.time()\n",
        "    duration = end - start\n",
        "    print(f\"Execution time: {duration} seconds\")\n",
        "    return result\n",
        "  return wrapper\n",
        "\n",
        "@timer\n",
        "def my_function():\n",
        "  time.sleep(2)\n",
        "\n",
        "\n",
        "\n",
        "my_function()\n"
      ]
    }
  ]
}